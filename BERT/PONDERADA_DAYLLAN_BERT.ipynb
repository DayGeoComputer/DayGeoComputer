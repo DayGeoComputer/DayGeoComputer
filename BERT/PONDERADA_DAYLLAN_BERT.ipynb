{
  "cells": [
    {
      "cell_type": "markdown",
      "metadata": {
        "id": "bmAISBnl7jAB"
      },
      "source": [
        "# Detecção de Bots no Twitter Utilizando BERT e Keras"
      ]
    },
    {
      "cell_type": "markdown",
      "metadata": {
        "id": "lGjQSnw77lSF"
      },
      "source": [
        "Neste projeto, vamos treinar um modelo BERT para detecção de bots no Twitter utilizando o dataset Twitter-Bot Detection do Kaggle. Todo o código será executado no Google Colab, e o dataset será baixado usando a biblioteca gdown. Além disso, utilizaremos a biblioteca Plotly para visualização de gráficos durante o processo de análise e avaliação do modelo."
      ]
    },
    {
      "cell_type": "markdown",
      "metadata": {
        "id": "CC4icl-67rPU"
      },
      "source": [
        "## 1. Instalação das Bibliotecas Necessárias"
      ]
    },
    {
      "cell_type": "markdown",
      "metadata": {
        "id": "Ncwk5nNh7teo"
      },
      "source": [
        "Primeiro, precisamos instalar as bibliotecas que serão usadas: transformers, tensorflow, gdown e plotly."
      ]
    },
    {
      "cell_type": "code",
      "execution_count": 50,
      "metadata": {
        "colab": {
          "base_uri": "https://localhost:8080/"
        },
        "id": "jEsvOisU6Ie1",
        "outputId": "007b2f56-7e26-42b1-8cc4-9979ef7958fc"
      },
      "outputs": [
        {
          "output_type": "stream",
          "name": "stdout",
          "text": [
            "Requirement already satisfied: transformers in /usr/local/lib/python3.10/dist-packages (4.45.1)\n",
            "Requirement already satisfied: tensorflow in /usr/local/lib/python3.10/dist-packages (2.17.0)\n",
            "Requirement already satisfied: gdown in /usr/local/lib/python3.10/dist-packages (5.2.0)\n",
            "Requirement already satisfied: plotly in /usr/local/lib/python3.10/dist-packages (5.24.1)\n",
            "Requirement already satisfied: filelock in /usr/local/lib/python3.10/dist-packages (from transformers) (3.16.1)\n",
            "Requirement already satisfied: huggingface-hub<1.0,>=0.23.2 in /usr/local/lib/python3.10/dist-packages (from transformers) (0.24.7)\n",
            "Requirement already satisfied: numpy>=1.17 in /usr/local/lib/python3.10/dist-packages (from transformers) (1.26.4)\n",
            "Requirement already satisfied: packaging>=20.0 in /usr/local/lib/python3.10/dist-packages (from transformers) (24.1)\n",
            "Requirement already satisfied: pyyaml>=5.1 in /usr/local/lib/python3.10/dist-packages (from transformers) (6.0.2)\n",
            "Requirement already satisfied: regex!=2019.12.17 in /usr/local/lib/python3.10/dist-packages (from transformers) (2024.9.11)\n",
            "Requirement already satisfied: requests in /usr/local/lib/python3.10/dist-packages (from transformers) (2.32.3)\n",
            "Requirement already satisfied: safetensors>=0.4.1 in /usr/local/lib/python3.10/dist-packages (from transformers) (0.4.5)\n",
            "Requirement already satisfied: tokenizers<0.21,>=0.20 in /usr/local/lib/python3.10/dist-packages (from transformers) (0.20.0)\n",
            "Requirement already satisfied: tqdm>=4.27 in /usr/local/lib/python3.10/dist-packages (from transformers) (4.66.5)\n",
            "Requirement already satisfied: absl-py>=1.0.0 in /usr/local/lib/python3.10/dist-packages (from tensorflow) (1.4.0)\n",
            "Requirement already satisfied: astunparse>=1.6.0 in /usr/local/lib/python3.10/dist-packages (from tensorflow) (1.6.3)\n",
            "Requirement already satisfied: flatbuffers>=24.3.25 in /usr/local/lib/python3.10/dist-packages (from tensorflow) (24.3.25)\n",
            "Requirement already satisfied: gast!=0.5.0,!=0.5.1,!=0.5.2,>=0.2.1 in /usr/local/lib/python3.10/dist-packages (from tensorflow) (0.4.0)\n",
            "Requirement already satisfied: google-pasta>=0.1.1 in /usr/local/lib/python3.10/dist-packages (from tensorflow) (0.2.0)\n",
            "Requirement already satisfied: h5py>=3.10.0 in /usr/local/lib/python3.10/dist-packages (from tensorflow) (3.11.0)\n",
            "Requirement already satisfied: libclang>=13.0.0 in /usr/local/lib/python3.10/dist-packages (from tensorflow) (18.1.1)\n",
            "Requirement already satisfied: ml-dtypes<0.5.0,>=0.3.1 in /usr/local/lib/python3.10/dist-packages (from tensorflow) (0.4.1)\n",
            "Requirement already satisfied: opt-einsum>=2.3.2 in /usr/local/lib/python3.10/dist-packages (from tensorflow) (3.3.0)\n",
            "Requirement already satisfied: protobuf!=4.21.0,!=4.21.1,!=4.21.2,!=4.21.3,!=4.21.4,!=4.21.5,<5.0.0dev,>=3.20.3 in /usr/local/lib/python3.10/dist-packages (from tensorflow) (4.25.5)\n",
            "Requirement already satisfied: setuptools in /usr/local/lib/python3.10/dist-packages (from tensorflow) (71.0.4)\n",
            "Requirement already satisfied: six>=1.12.0 in /usr/local/lib/python3.10/dist-packages (from tensorflow) (1.16.0)\n",
            "Requirement already satisfied: termcolor>=1.1.0 in /usr/local/lib/python3.10/dist-packages (from tensorflow) (2.4.0)\n",
            "Requirement already satisfied: typing-extensions>=3.6.6 in /usr/local/lib/python3.10/dist-packages (from tensorflow) (4.12.2)\n",
            "Requirement already satisfied: wrapt>=1.11.0 in /usr/local/lib/python3.10/dist-packages (from tensorflow) (1.16.0)\n",
            "Requirement already satisfied: grpcio<2.0,>=1.24.3 in /usr/local/lib/python3.10/dist-packages (from tensorflow) (1.64.1)\n",
            "Requirement already satisfied: tensorboard<2.18,>=2.17 in /usr/local/lib/python3.10/dist-packages (from tensorflow) (2.17.1)\n",
            "Requirement already satisfied: keras>=3.2.0 in /usr/local/lib/python3.10/dist-packages (from tensorflow) (3.5.0)\n",
            "Requirement already satisfied: tensorflow-io-gcs-filesystem>=0.23.1 in /usr/local/lib/python3.10/dist-packages (from tensorflow) (0.37.1)\n",
            "Requirement already satisfied: beautifulsoup4 in /usr/local/lib/python3.10/dist-packages (from gdown) (4.12.3)\n",
            "Requirement already satisfied: tenacity>=6.2.0 in /usr/local/lib/python3.10/dist-packages (from plotly) (9.0.0)\n",
            "Requirement already satisfied: wheel<1.0,>=0.23.0 in /usr/local/lib/python3.10/dist-packages (from astunparse>=1.6.0->tensorflow) (0.44.0)\n",
            "Requirement already satisfied: fsspec>=2023.5.0 in /usr/local/lib/python3.10/dist-packages (from huggingface-hub<1.0,>=0.23.2->transformers) (2024.6.1)\n",
            "Requirement already satisfied: rich in /usr/local/lib/python3.10/dist-packages (from keras>=3.2.0->tensorflow) (13.8.1)\n",
            "Requirement already satisfied: namex in /usr/local/lib/python3.10/dist-packages (from keras>=3.2.0->tensorflow) (0.0.8)\n",
            "Requirement already satisfied: optree in /usr/local/lib/python3.10/dist-packages (from keras>=3.2.0->tensorflow) (0.12.1)\n",
            "Requirement already satisfied: charset-normalizer<4,>=2 in /usr/local/lib/python3.10/dist-packages (from requests->transformers) (3.3.2)\n",
            "Requirement already satisfied: idna<4,>=2.5 in /usr/local/lib/python3.10/dist-packages (from requests->transformers) (3.10)\n",
            "Requirement already satisfied: urllib3<3,>=1.21.1 in /usr/local/lib/python3.10/dist-packages (from requests->transformers) (2.2.3)\n",
            "Requirement already satisfied: certifi>=2017.4.17 in /usr/local/lib/python3.10/dist-packages (from requests->transformers) (2024.8.30)\n",
            "Requirement already satisfied: markdown>=2.6.8 in /usr/local/lib/python3.10/dist-packages (from tensorboard<2.18,>=2.17->tensorflow) (3.7)\n",
            "Requirement already satisfied: tensorboard-data-server<0.8.0,>=0.7.0 in /usr/local/lib/python3.10/dist-packages (from tensorboard<2.18,>=2.17->tensorflow) (0.7.2)\n",
            "Requirement already satisfied: werkzeug>=1.0.1 in /usr/local/lib/python3.10/dist-packages (from tensorboard<2.18,>=2.17->tensorflow) (3.0.4)\n",
            "Requirement already satisfied: soupsieve>1.2 in /usr/local/lib/python3.10/dist-packages (from beautifulsoup4->gdown) (2.6)\n",
            "Requirement already satisfied: PySocks!=1.5.7,>=1.5.6 in /usr/local/lib/python3.10/dist-packages (from requests[socks]->gdown) (1.7.1)\n",
            "Requirement already satisfied: MarkupSafe>=2.1.1 in /usr/local/lib/python3.10/dist-packages (from werkzeug>=1.0.1->tensorboard<2.18,>=2.17->tensorflow) (2.1.5)\n",
            "Requirement already satisfied: markdown-it-py>=2.2.0 in /usr/local/lib/python3.10/dist-packages (from rich->keras>=3.2.0->tensorflow) (3.0.0)\n",
            "Requirement already satisfied: pygments<3.0.0,>=2.13.0 in /usr/local/lib/python3.10/dist-packages (from rich->keras>=3.2.0->tensorflow) (2.18.0)\n",
            "Requirement already satisfied: mdurl~=0.1 in /usr/local/lib/python3.10/dist-packages (from markdown-it-py>=2.2.0->rich->keras>=3.2.0->tensorflow) (0.1.2)\n"
          ]
        }
      ],
      "source": [
        "!pip install transformers tensorflow gdown plotly"
      ]
    },
    {
      "cell_type": "markdown",
      "metadata": {
        "id": "QAiRIgjs8ewC"
      },
      "source": [
        "### 1.1. Importação de Bibliotecas\n"
      ]
    },
    {
      "cell_type": "code",
      "execution_count": 51,
      "metadata": {
        "id": "7M0DzWQC8oWm"
      },
      "outputs": [],
      "source": [
        "import gdown\n",
        "import pandas as pd\n",
        "from transformers import BertTokenizer, TFBertForSequenceClassification\n",
        "import numpy as np\n",
        "import seaborn as sns\n",
        "import torch\n",
        "from sklearn.model_selection import train_test_split\n",
        "from transformers import BertTokenizer, BertForSequenceClassification, AdamW\n",
        "import plotly.express as px\n",
        "from tensorflow.keras.optimizers import Adam\n",
        "from tensorflow.keras.losses import SparseCategoricalCrossentropy\n",
        "from tensorflow.keras.metrics import SparseCategoricalAccuracy"
      ]
    },
    {
      "cell_type": "markdown",
      "metadata": {
        "id": "HeBXDsvg72qU"
      },
      "source": [
        "## 2. Download do Dataset"
      ]
    },
    {
      "cell_type": "markdown",
      "metadata": {
        "id": "fAslyEVU74th"
      },
      "source": [
        "Vamos utilizar o gdown para baixar o dataset do Kaggle diretamente para o ambiente do Google Colab."
      ]
    },
    {
      "cell_type": "code",
      "execution_count": 52,
      "metadata": {
        "colab": {
          "base_uri": "https://localhost:8080/",
          "height": 0
        },
        "id": "MiP6_88j8ave",
        "outputId": "0ee25aa3-99db-4871-dceb-20c514d9409b"
      },
      "outputs": [
        {
          "output_type": "stream",
          "name": "stderr",
          "text": [
            "Downloading...\n",
            "From: https://drive.google.com/uc?id=14ZeKj-r84KcTQ_O9iYSFoteEZsYKPsbz\n",
            "To: /content/dataset.csv\n",
            "100%|██████████| 7.46M/7.46M [00:00<00:00, 131MB/s]\n"
          ]
        },
        {
          "output_type": "execute_result",
          "data": {
            "text/plain": [
              "'dataset.csv'"
            ],
            "application/vnd.google.colaboratory.intrinsic+json": {
              "type": "string"
            }
          },
          "metadata": {},
          "execution_count": 52
        }
      ],
      "source": [
        "arquivo_destino_colab = \"dataset.csv\"\n",
        "doc_id = \"14ZeKj-r84KcTQ_O9iYSFoteEZsYKPsbz\"\n",
        "URL = f\"https://drive.google.com/uc?id={doc_id}\"\n",
        "gdown.download(URL, arquivo_destino_colab, quiet=False)"
      ]
    },
    {
      "cell_type": "code",
      "execution_count": 53,
      "metadata": {
        "colab": {
          "base_uri": "https://localhost:8080/",
          "height": 0
        },
        "id": "6rEi87SBEQej",
        "outputId": "1d312c07-1b6e-4fe6-f022-37ebda542089"
      },
      "outputs": [
        {
          "output_type": "execute_result",
          "data": {
            "text/plain": [
              "       User ID         Username  \\\n",
              "0       132131            flong   \n",
              "1       289683   hinesstephanie   \n",
              "2       779715       roberttran   \n",
              "3       696168           pmason   \n",
              "4       704441           noah87   \n",
              "...        ...              ...   \n",
              "49995   491196            uberg   \n",
              "49996   739297     jessicamunoz   \n",
              "49997   674475   lynncunningham   \n",
              "49998   167081  richardthompson   \n",
              "49999   311204         daniel29   \n",
              "\n",
              "                                                   Tweet  Retweet Count  \\\n",
              "0      Station activity person against natural majori...             85   \n",
              "1      Authority research natural life material staff...             55   \n",
              "2      Manage whose quickly especially foot none to g...              6   \n",
              "3      Just cover eight opportunity strong policy which.             54   \n",
              "4                          Animal sign six data good or.             26   \n",
              "...                                                  ...            ...   \n",
              "49995  Want but put card direction know miss former h...             64   \n",
              "49996  Provide whole maybe agree church respond most ...             18   \n",
              "49997  Bring different everyone international capital...             43   \n",
              "49998  Than about single generation itself seek sell ...             45   \n",
              "49999  Here morning class various room human true bec...             91   \n",
              "\n",
              "       Mention Count  Follower Count  Verified  Bot Label            Location  \\\n",
              "0                  1            2353     False          1           Adkinston   \n",
              "1                  5            9617      True          0          Sanderston   \n",
              "2                  2            4363      True          0        Harrisonfurt   \n",
              "3                  5            2242      True          1        Martinezberg   \n",
              "4                  3            8438     False          1        Camachoville   \n",
              "...              ...             ...       ...        ...                 ...   \n",
              "49995              0            9911      True          1  Lake Kimberlyburgh   \n",
              "49996              5            9900     False          1           Greenbury   \n",
              "49997              3            6313      True          1         Deborahfort   \n",
              "49998              1            6343     False          0         Stephenside   \n",
              "49999              4            4006     False          0           Novakberg   \n",
              "\n",
              "                Created At                         Hashtags  \n",
              "0      2020-05-11 15:29:50                              NaN  \n",
              "1      2022-11-26 05:18:10                        both live  \n",
              "2      2022-08-08 03:16:54                      phone ahead  \n",
              "3      2021-08-14 22:27:05               ever quickly new I  \n",
              "4      2020-04-13 21:24:21                  foreign mention  \n",
              "...                    ...                              ...  \n",
              "49995  2023-04-20 11:06:26  teach quality ten education any  \n",
              "49996  2022-10-18 03:57:35           add walk among believe  \n",
              "49997  2020-07-08 03:54:08          onto admit artist first  \n",
              "49998  2022-03-22 12:13:44                             star  \n",
              "49999  2022-12-03 06:11:07                             home  \n",
              "\n",
              "[50000 rows x 11 columns]"
            ],
            "text/html": [
              "\n",
              "  <div id=\"df-f44a28f5-980e-43cb-bf59-d694cd42d31e\" class=\"colab-df-container\">\n",
              "    <div>\n",
              "<style scoped>\n",
              "    .dataframe tbody tr th:only-of-type {\n",
              "        vertical-align: middle;\n",
              "    }\n",
              "\n",
              "    .dataframe tbody tr th {\n",
              "        vertical-align: top;\n",
              "    }\n",
              "\n",
              "    .dataframe thead th {\n",
              "        text-align: right;\n",
              "    }\n",
              "</style>\n",
              "<table border=\"1\" class=\"dataframe\">\n",
              "  <thead>\n",
              "    <tr style=\"text-align: right;\">\n",
              "      <th></th>\n",
              "      <th>User ID</th>\n",
              "      <th>Username</th>\n",
              "      <th>Tweet</th>\n",
              "      <th>Retweet Count</th>\n",
              "      <th>Mention Count</th>\n",
              "      <th>Follower Count</th>\n",
              "      <th>Verified</th>\n",
              "      <th>Bot Label</th>\n",
              "      <th>Location</th>\n",
              "      <th>Created At</th>\n",
              "      <th>Hashtags</th>\n",
              "    </tr>\n",
              "  </thead>\n",
              "  <tbody>\n",
              "    <tr>\n",
              "      <th>0</th>\n",
              "      <td>132131</td>\n",
              "      <td>flong</td>\n",
              "      <td>Station activity person against natural majori...</td>\n",
              "      <td>85</td>\n",
              "      <td>1</td>\n",
              "      <td>2353</td>\n",
              "      <td>False</td>\n",
              "      <td>1</td>\n",
              "      <td>Adkinston</td>\n",
              "      <td>2020-05-11 15:29:50</td>\n",
              "      <td>NaN</td>\n",
              "    </tr>\n",
              "    <tr>\n",
              "      <th>1</th>\n",
              "      <td>289683</td>\n",
              "      <td>hinesstephanie</td>\n",
              "      <td>Authority research natural life material staff...</td>\n",
              "      <td>55</td>\n",
              "      <td>5</td>\n",
              "      <td>9617</td>\n",
              "      <td>True</td>\n",
              "      <td>0</td>\n",
              "      <td>Sanderston</td>\n",
              "      <td>2022-11-26 05:18:10</td>\n",
              "      <td>both live</td>\n",
              "    </tr>\n",
              "    <tr>\n",
              "      <th>2</th>\n",
              "      <td>779715</td>\n",
              "      <td>roberttran</td>\n",
              "      <td>Manage whose quickly especially foot none to g...</td>\n",
              "      <td>6</td>\n",
              "      <td>2</td>\n",
              "      <td>4363</td>\n",
              "      <td>True</td>\n",
              "      <td>0</td>\n",
              "      <td>Harrisonfurt</td>\n",
              "      <td>2022-08-08 03:16:54</td>\n",
              "      <td>phone ahead</td>\n",
              "    </tr>\n",
              "    <tr>\n",
              "      <th>3</th>\n",
              "      <td>696168</td>\n",
              "      <td>pmason</td>\n",
              "      <td>Just cover eight opportunity strong policy which.</td>\n",
              "      <td>54</td>\n",
              "      <td>5</td>\n",
              "      <td>2242</td>\n",
              "      <td>True</td>\n",
              "      <td>1</td>\n",
              "      <td>Martinezberg</td>\n",
              "      <td>2021-08-14 22:27:05</td>\n",
              "      <td>ever quickly new I</td>\n",
              "    </tr>\n",
              "    <tr>\n",
              "      <th>4</th>\n",
              "      <td>704441</td>\n",
              "      <td>noah87</td>\n",
              "      <td>Animal sign six data good or.</td>\n",
              "      <td>26</td>\n",
              "      <td>3</td>\n",
              "      <td>8438</td>\n",
              "      <td>False</td>\n",
              "      <td>1</td>\n",
              "      <td>Camachoville</td>\n",
              "      <td>2020-04-13 21:24:21</td>\n",
              "      <td>foreign mention</td>\n",
              "    </tr>\n",
              "    <tr>\n",
              "      <th>...</th>\n",
              "      <td>...</td>\n",
              "      <td>...</td>\n",
              "      <td>...</td>\n",
              "      <td>...</td>\n",
              "      <td>...</td>\n",
              "      <td>...</td>\n",
              "      <td>...</td>\n",
              "      <td>...</td>\n",
              "      <td>...</td>\n",
              "      <td>...</td>\n",
              "      <td>...</td>\n",
              "    </tr>\n",
              "    <tr>\n",
              "      <th>49995</th>\n",
              "      <td>491196</td>\n",
              "      <td>uberg</td>\n",
              "      <td>Want but put card direction know miss former h...</td>\n",
              "      <td>64</td>\n",
              "      <td>0</td>\n",
              "      <td>9911</td>\n",
              "      <td>True</td>\n",
              "      <td>1</td>\n",
              "      <td>Lake Kimberlyburgh</td>\n",
              "      <td>2023-04-20 11:06:26</td>\n",
              "      <td>teach quality ten education any</td>\n",
              "    </tr>\n",
              "    <tr>\n",
              "      <th>49996</th>\n",
              "      <td>739297</td>\n",
              "      <td>jessicamunoz</td>\n",
              "      <td>Provide whole maybe agree church respond most ...</td>\n",
              "      <td>18</td>\n",
              "      <td>5</td>\n",
              "      <td>9900</td>\n",
              "      <td>False</td>\n",
              "      <td>1</td>\n",
              "      <td>Greenbury</td>\n",
              "      <td>2022-10-18 03:57:35</td>\n",
              "      <td>add walk among believe</td>\n",
              "    </tr>\n",
              "    <tr>\n",
              "      <th>49997</th>\n",
              "      <td>674475</td>\n",
              "      <td>lynncunningham</td>\n",
              "      <td>Bring different everyone international capital...</td>\n",
              "      <td>43</td>\n",
              "      <td>3</td>\n",
              "      <td>6313</td>\n",
              "      <td>True</td>\n",
              "      <td>1</td>\n",
              "      <td>Deborahfort</td>\n",
              "      <td>2020-07-08 03:54:08</td>\n",
              "      <td>onto admit artist first</td>\n",
              "    </tr>\n",
              "    <tr>\n",
              "      <th>49998</th>\n",
              "      <td>167081</td>\n",
              "      <td>richardthompson</td>\n",
              "      <td>Than about single generation itself seek sell ...</td>\n",
              "      <td>45</td>\n",
              "      <td>1</td>\n",
              "      <td>6343</td>\n",
              "      <td>False</td>\n",
              "      <td>0</td>\n",
              "      <td>Stephenside</td>\n",
              "      <td>2022-03-22 12:13:44</td>\n",
              "      <td>star</td>\n",
              "    </tr>\n",
              "    <tr>\n",
              "      <th>49999</th>\n",
              "      <td>311204</td>\n",
              "      <td>daniel29</td>\n",
              "      <td>Here morning class various room human true bec...</td>\n",
              "      <td>91</td>\n",
              "      <td>4</td>\n",
              "      <td>4006</td>\n",
              "      <td>False</td>\n",
              "      <td>0</td>\n",
              "      <td>Novakberg</td>\n",
              "      <td>2022-12-03 06:11:07</td>\n",
              "      <td>home</td>\n",
              "    </tr>\n",
              "  </tbody>\n",
              "</table>\n",
              "<p>50000 rows × 11 columns</p>\n",
              "</div>\n",
              "    <div class=\"colab-df-buttons\">\n",
              "      \n",
              "  <div class=\"colab-df-container\">\n",
              "    <button class=\"colab-df-convert\" onclick=\"convertToInteractive('df-f44a28f5-980e-43cb-bf59-d694cd42d31e')\"\n",
              "            title=\"Convert this dataframe to an interactive table.\"\n",
              "            style=\"display:none;\">\n",
              "      \n",
              "  <svg xmlns=\"http://www.w3.org/2000/svg\" height=\"24px\" viewBox=\"0 -960 960 960\">\n",
              "    <path d=\"M120-120v-720h720v720H120Zm60-500h600v-160H180v160Zm220 220h160v-160H400v160Zm0 220h160v-160H400v160ZM180-400h160v-160H180v160Zm440 0h160v-160H620v160ZM180-180h160v-160H180v160Zm440 0h160v-160H620v160Z\"/>\n",
              "  </svg>\n",
              "    </button>\n",
              "    \n",
              "  <style>\n",
              "    .colab-df-container {\n",
              "      display:flex;\n",
              "      gap: 12px;\n",
              "    }\n",
              "\n",
              "    .colab-df-convert {\n",
              "      background-color: #E8F0FE;\n",
              "      border: none;\n",
              "      border-radius: 50%;\n",
              "      cursor: pointer;\n",
              "      display: none;\n",
              "      fill: #1967D2;\n",
              "      height: 32px;\n",
              "      padding: 0 0 0 0;\n",
              "      width: 32px;\n",
              "    }\n",
              "\n",
              "    .colab-df-convert:hover {\n",
              "      background-color: #E2EBFA;\n",
              "      box-shadow: 0px 1px 2px rgba(60, 64, 67, 0.3), 0px 1px 3px 1px rgba(60, 64, 67, 0.15);\n",
              "      fill: #174EA6;\n",
              "    }\n",
              "\n",
              "    .colab-df-buttons div {\n",
              "      margin-bottom: 4px;\n",
              "    }\n",
              "\n",
              "    [theme=dark] .colab-df-convert {\n",
              "      background-color: #3B4455;\n",
              "      fill: #D2E3FC;\n",
              "    }\n",
              "\n",
              "    [theme=dark] .colab-df-convert:hover {\n",
              "      background-color: #434B5C;\n",
              "      box-shadow: 0px 1px 3px 1px rgba(0, 0, 0, 0.15);\n",
              "      filter: drop-shadow(0px 1px 2px rgba(0, 0, 0, 0.3));\n",
              "      fill: #FFFFFF;\n",
              "    }\n",
              "  </style>\n",
              "\n",
              "    <script>\n",
              "      const buttonEl =\n",
              "        document.querySelector('#df-f44a28f5-980e-43cb-bf59-d694cd42d31e button.colab-df-convert');\n",
              "      buttonEl.style.display =\n",
              "        google.colab.kernel.accessAllowed ? 'block' : 'none';\n",
              "\n",
              "      async function convertToInteractive(key) {\n",
              "        const element = document.querySelector('#df-f44a28f5-980e-43cb-bf59-d694cd42d31e');\n",
              "        const dataTable =\n",
              "          await google.colab.kernel.invokeFunction('convertToInteractive',\n",
              "                                                    [key], {});\n",
              "        if (!dataTable) return;\n",
              "\n",
              "        const docLinkHtml = 'Like what you see? Visit the ' +\n",
              "          '<a target=\"_blank\" href=https://colab.research.google.com/notebooks/data_table.ipynb>data table notebook</a>'\n",
              "          + ' to learn more about interactive tables.';\n",
              "        element.innerHTML = '';\n",
              "        dataTable['output_type'] = 'display_data';\n",
              "        await google.colab.output.renderOutput(dataTable, element);\n",
              "        const docLink = document.createElement('div');\n",
              "        docLink.innerHTML = docLinkHtml;\n",
              "        element.appendChild(docLink);\n",
              "      }\n",
              "    </script>\n",
              "  </div>\n",
              "  \n",
              "    </div>\n",
              "  </div>\n",
              "  "
            ],
            "application/vnd.google.colaboratory.intrinsic+json": {
              "type": "dataframe",
              "variable_name": "dados",
              "summary": "{\n  \"name\": \"dados\",\n  \"rows\": 50000,\n  \"fields\": [\n    {\n      \"column\": \"User ID\",\n      \"properties\": {\n        \"dtype\": \"number\",\n        \"std\": 259756,\n        \"min\": 100025,\n        \"max\": 999995,\n        \"num_unique_values\": 50000,\n        \"samples\": [\n          715347,\n          810631,\n          529620\n        ],\n        \"semantic_type\": \"\",\n        \"description\": \"\"\n      }\n    },\n    {\n      \"column\": \"Username\",\n      \"properties\": {\n        \"dtype\": \"string\",\n        \"num_unique_values\": 40566,\n        \"samples\": [\n          \"hessanna\",\n          \"okelly\",\n          \"ralph18\"\n        ],\n        \"semantic_type\": \"\",\n        \"description\": \"\"\n      }\n    },\n    {\n      \"column\": \"Tweet\",\n      \"properties\": {\n        \"dtype\": \"string\",\n        \"num_unique_values\": 50000,\n        \"samples\": [\n          \"Right collection site require nearly we available.\",\n          \"Trouble smile factor nice state culture man wide population each for response.\",\n          \"Quality work finally rule they stage yeah security story group church lot myself.\"\n        ],\n        \"semantic_type\": \"\",\n        \"description\": \"\"\n      }\n    },\n    {\n      \"column\": \"Retweet Count\",\n      \"properties\": {\n        \"dtype\": \"number\",\n        \"std\": 29,\n        \"min\": 0,\n        \"max\": 100,\n        \"num_unique_values\": 101,\n        \"samples\": [\n          36,\n          30,\n          83\n        ],\n        \"semantic_type\": \"\",\n        \"description\": \"\"\n      }\n    },\n    {\n      \"column\": \"Mention Count\",\n      \"properties\": {\n        \"dtype\": \"number\",\n        \"std\": 1,\n        \"min\": 0,\n        \"max\": 5,\n        \"num_unique_values\": 6,\n        \"samples\": [\n          1,\n          5,\n          0\n        ],\n        \"semantic_type\": \"\",\n        \"description\": \"\"\n      }\n    },\n    {\n      \"column\": \"Follower Count\",\n      \"properties\": {\n        \"dtype\": \"number\",\n        \"std\": 2878,\n        \"min\": 0,\n        \"max\": 10000,\n        \"num_unique_values\": 9923,\n        \"samples\": [\n          6582,\n          6905,\n          7185\n        ],\n        \"semantic_type\": \"\",\n        \"description\": \"\"\n      }\n    },\n    {\n      \"column\": \"Verified\",\n      \"properties\": {\n        \"dtype\": \"boolean\",\n        \"num_unique_values\": 2,\n        \"samples\": [\n          true,\n          false\n        ],\n        \"semantic_type\": \"\",\n        \"description\": \"\"\n      }\n    },\n    {\n      \"column\": \"Bot Label\",\n      \"properties\": {\n        \"dtype\": \"number\",\n        \"std\": 0,\n        \"min\": 0,\n        \"max\": 1,\n        \"num_unique_values\": 2,\n        \"samples\": [\n          0,\n          1\n        ],\n        \"semantic_type\": \"\",\n        \"description\": \"\"\n      }\n    },\n    {\n      \"column\": \"Location\",\n      \"properties\": {\n        \"dtype\": \"string\",\n        \"num_unique_values\": 25199,\n        \"samples\": [\n          \"East Sarah\",\n          \"Port Jameston\"\n        ],\n        \"semantic_type\": \"\",\n        \"description\": \"\"\n      }\n    },\n    {\n      \"column\": \"Created At\",\n      \"properties\": {\n        \"dtype\": \"object\",\n        \"num_unique_values\": 49989,\n        \"samples\": [\n          \"2020-09-27 18:40:29\",\n          \"2021-10-23 09:52:16\"\n        ],\n        \"semantic_type\": \"\",\n        \"description\": \"\"\n      }\n    },\n    {\n      \"column\": \"Hashtags\",\n      \"properties\": {\n        \"dtype\": \"string\",\n        \"num_unique_values\": 34247,\n        \"samples\": [\n          \"law everything line picture responsibility\",\n          \"through institution glass century\"\n        ],\n        \"semantic_type\": \"\",\n        \"description\": \"\"\n      }\n    }\n  ]\n}"
            }
          },
          "metadata": {},
          "execution_count": 53
        }
      ],
      "source": [
        "dados = pd.read_csv(arquivo_destino_colab)\n",
        "dados"
      ]
    },
    {
      "cell_type": "code",
      "execution_count": 54,
      "metadata": {
        "colab": {
          "base_uri": "https://localhost:8080/"
        },
        "id": "FO20AEHVJLpS",
        "outputId": "ea1926ab-cc60-40da-f3fc-2909a9fcabd7"
      },
      "outputs": [
        {
          "output_type": "stream",
          "name": "stdout",
          "text": [
            "\n",
            "Informações gerais sobre o dataset:\n",
            "<class 'pandas.core.frame.DataFrame'>\n",
            "RangeIndex: 50000 entries, 0 to 49999\n",
            "Data columns (total 11 columns):\n",
            " #   Column          Non-Null Count  Dtype \n",
            "---  ------          --------------  ----- \n",
            " 0   User ID         50000 non-null  int64 \n",
            " 1   Username        50000 non-null  object\n",
            " 2   Tweet           50000 non-null  object\n",
            " 3   Retweet Count   50000 non-null  int64 \n",
            " 4   Mention Count   50000 non-null  int64 \n",
            " 5   Follower Count  50000 non-null  int64 \n",
            " 6   Verified        50000 non-null  bool  \n",
            " 7   Bot Label       50000 non-null  int64 \n",
            " 8   Location        50000 non-null  object\n",
            " 9   Created At      50000 non-null  object\n",
            " 10  Hashtags        41659 non-null  object\n",
            "dtypes: bool(1), int64(5), object(5)\n",
            "memory usage: 3.9+ MB\n",
            "None\n"
          ]
        }
      ],
      "source": [
        "# Exibindo as colunas e o tipo de dado de cada uma\n",
        "print(\"\\nInformações gerais sobre o dataset:\")\n",
        "print(dados.info())"
      ]
    },
    {
      "cell_type": "code",
      "execution_count": 55,
      "metadata": {
        "colab": {
          "base_uri": "https://localhost:8080/",
          "height": 0
        },
        "id": "mBrhArzaInst",
        "outputId": "040ee3d2-c179-4684-804f-ea729f30ab38"
      },
      "outputs": [
        {
          "output_type": "stream",
          "name": "stdout",
          "text": [
            "\n",
            "Verificando valores ausentes:\n"
          ]
        },
        {
          "output_type": "display_data",
          "data": {
            "text/plain": [
              "User ID              0\n",
              "Username             0\n",
              "Tweet                0\n",
              "Retweet Count        0\n",
              "Mention Count        0\n",
              "Follower Count       0\n",
              "Verified             0\n",
              "Bot Label            0\n",
              "Location             0\n",
              "Created At           0\n",
              "Hashtags          8341\n",
              "dtype: int64"
            ],
            "text/html": [
              "<div>\n",
              "<style scoped>\n",
              "    .dataframe tbody tr th:only-of-type {\n",
              "        vertical-align: middle;\n",
              "    }\n",
              "\n",
              "    .dataframe tbody tr th {\n",
              "        vertical-align: top;\n",
              "    }\n",
              "\n",
              "    .dataframe thead th {\n",
              "        text-align: right;\n",
              "    }\n",
              "</style>\n",
              "<table border=\"1\" class=\"dataframe\">\n",
              "  <thead>\n",
              "    <tr style=\"text-align: right;\">\n",
              "      <th></th>\n",
              "      <th>0</th>\n",
              "    </tr>\n",
              "  </thead>\n",
              "  <tbody>\n",
              "    <tr>\n",
              "      <th>User ID</th>\n",
              "      <td>0</td>\n",
              "    </tr>\n",
              "    <tr>\n",
              "      <th>Username</th>\n",
              "      <td>0</td>\n",
              "    </tr>\n",
              "    <tr>\n",
              "      <th>Tweet</th>\n",
              "      <td>0</td>\n",
              "    </tr>\n",
              "    <tr>\n",
              "      <th>Retweet Count</th>\n",
              "      <td>0</td>\n",
              "    </tr>\n",
              "    <tr>\n",
              "      <th>Mention Count</th>\n",
              "      <td>0</td>\n",
              "    </tr>\n",
              "    <tr>\n",
              "      <th>Follower Count</th>\n",
              "      <td>0</td>\n",
              "    </tr>\n",
              "    <tr>\n",
              "      <th>Verified</th>\n",
              "      <td>0</td>\n",
              "    </tr>\n",
              "    <tr>\n",
              "      <th>Bot Label</th>\n",
              "      <td>0</td>\n",
              "    </tr>\n",
              "    <tr>\n",
              "      <th>Location</th>\n",
              "      <td>0</td>\n",
              "    </tr>\n",
              "    <tr>\n",
              "      <th>Created At</th>\n",
              "      <td>0</td>\n",
              "    </tr>\n",
              "    <tr>\n",
              "      <th>Hashtags</th>\n",
              "      <td>8341</td>\n",
              "    </tr>\n",
              "  </tbody>\n",
              "</table>\n",
              "</div><br><label><b>dtype:</b> int64</label>"
            ]
          },
          "metadata": {}
        }
      ],
      "source": [
        "# Verificando a presença de valores nulos\n",
        "print(\"\\nVerificando valores ausentes:\")\n",
        "display(dados.isnull().sum())"
      ]
    },
    {
      "cell_type": "code",
      "execution_count": 56,
      "metadata": {
        "colab": {
          "base_uri": "https://localhost:8080/",
          "height": 0
        },
        "id": "4e0CbygMPCm7",
        "outputId": "a92fc031-c973-4be5-f65d-ab0a775dfad0"
      },
      "outputs": [
        {
          "output_type": "stream",
          "name": "stdout",
          "text": [
            "\n",
            "Estatísticas descritivas:\n"
          ]
        },
        {
          "output_type": "display_data",
          "data": {
            "text/plain": [
              "             User ID  Retweet Count  Mention Count  Follower Count  \\\n",
              "count   50000.000000    50000.00000   50000.000000    50000.000000   \n",
              "mean   548890.680540       50.00560       2.513760     4988.602380   \n",
              "std    259756.681425       29.18116       1.708563     2878.742898   \n",
              "min    100025.000000        0.00000       0.000000        0.000000   \n",
              "25%    323524.250000       25.00000       1.000000     2487.750000   \n",
              "50%    548147.000000       50.00000       3.000000     4991.500000   \n",
              "75%    772983.000000       75.00000       4.000000     7471.000000   \n",
              "max    999995.000000      100.00000       5.000000    10000.000000   \n",
              "\n",
              "          Bot Label  \n",
              "count  50000.000000  \n",
              "mean       0.500360  \n",
              "std        0.500005  \n",
              "min        0.000000  \n",
              "25%        0.000000  \n",
              "50%        1.000000  \n",
              "75%        1.000000  \n",
              "max        1.000000  "
            ],
            "text/html": [
              "\n",
              "  <div id=\"df-b0fa1b9a-78fa-4d80-bdf9-dcc6985cda22\" class=\"colab-df-container\">\n",
              "    <div>\n",
              "<style scoped>\n",
              "    .dataframe tbody tr th:only-of-type {\n",
              "        vertical-align: middle;\n",
              "    }\n",
              "\n",
              "    .dataframe tbody tr th {\n",
              "        vertical-align: top;\n",
              "    }\n",
              "\n",
              "    .dataframe thead th {\n",
              "        text-align: right;\n",
              "    }\n",
              "</style>\n",
              "<table border=\"1\" class=\"dataframe\">\n",
              "  <thead>\n",
              "    <tr style=\"text-align: right;\">\n",
              "      <th></th>\n",
              "      <th>User ID</th>\n",
              "      <th>Retweet Count</th>\n",
              "      <th>Mention Count</th>\n",
              "      <th>Follower Count</th>\n",
              "      <th>Bot Label</th>\n",
              "    </tr>\n",
              "  </thead>\n",
              "  <tbody>\n",
              "    <tr>\n",
              "      <th>count</th>\n",
              "      <td>50000.000000</td>\n",
              "      <td>50000.00000</td>\n",
              "      <td>50000.000000</td>\n",
              "      <td>50000.000000</td>\n",
              "      <td>50000.000000</td>\n",
              "    </tr>\n",
              "    <tr>\n",
              "      <th>mean</th>\n",
              "      <td>548890.680540</td>\n",
              "      <td>50.00560</td>\n",
              "      <td>2.513760</td>\n",
              "      <td>4988.602380</td>\n",
              "      <td>0.500360</td>\n",
              "    </tr>\n",
              "    <tr>\n",
              "      <th>std</th>\n",
              "      <td>259756.681425</td>\n",
              "      <td>29.18116</td>\n",
              "      <td>1.708563</td>\n",
              "      <td>2878.742898</td>\n",
              "      <td>0.500005</td>\n",
              "    </tr>\n",
              "    <tr>\n",
              "      <th>min</th>\n",
              "      <td>100025.000000</td>\n",
              "      <td>0.00000</td>\n",
              "      <td>0.000000</td>\n",
              "      <td>0.000000</td>\n",
              "      <td>0.000000</td>\n",
              "    </tr>\n",
              "    <tr>\n",
              "      <th>25%</th>\n",
              "      <td>323524.250000</td>\n",
              "      <td>25.00000</td>\n",
              "      <td>1.000000</td>\n",
              "      <td>2487.750000</td>\n",
              "      <td>0.000000</td>\n",
              "    </tr>\n",
              "    <tr>\n",
              "      <th>50%</th>\n",
              "      <td>548147.000000</td>\n",
              "      <td>50.00000</td>\n",
              "      <td>3.000000</td>\n",
              "      <td>4991.500000</td>\n",
              "      <td>1.000000</td>\n",
              "    </tr>\n",
              "    <tr>\n",
              "      <th>75%</th>\n",
              "      <td>772983.000000</td>\n",
              "      <td>75.00000</td>\n",
              "      <td>4.000000</td>\n",
              "      <td>7471.000000</td>\n",
              "      <td>1.000000</td>\n",
              "    </tr>\n",
              "    <tr>\n",
              "      <th>max</th>\n",
              "      <td>999995.000000</td>\n",
              "      <td>100.00000</td>\n",
              "      <td>5.000000</td>\n",
              "      <td>10000.000000</td>\n",
              "      <td>1.000000</td>\n",
              "    </tr>\n",
              "  </tbody>\n",
              "</table>\n",
              "</div>\n",
              "    <div class=\"colab-df-buttons\">\n",
              "      \n",
              "  <div class=\"colab-df-container\">\n",
              "    <button class=\"colab-df-convert\" onclick=\"convertToInteractive('df-b0fa1b9a-78fa-4d80-bdf9-dcc6985cda22')\"\n",
              "            title=\"Convert this dataframe to an interactive table.\"\n",
              "            style=\"display:none;\">\n",
              "      \n",
              "  <svg xmlns=\"http://www.w3.org/2000/svg\" height=\"24px\" viewBox=\"0 -960 960 960\">\n",
              "    <path d=\"M120-120v-720h720v720H120Zm60-500h600v-160H180v160Zm220 220h160v-160H400v160Zm0 220h160v-160H400v160ZM180-400h160v-160H180v160Zm440 0h160v-160H620v160ZM180-180h160v-160H180v160Zm440 0h160v-160H620v160Z\"/>\n",
              "  </svg>\n",
              "    </button>\n",
              "    \n",
              "  <style>\n",
              "    .colab-df-container {\n",
              "      display:flex;\n",
              "      gap: 12px;\n",
              "    }\n",
              "\n",
              "    .colab-df-convert {\n",
              "      background-color: #E8F0FE;\n",
              "      border: none;\n",
              "      border-radius: 50%;\n",
              "      cursor: pointer;\n",
              "      display: none;\n",
              "      fill: #1967D2;\n",
              "      height: 32px;\n",
              "      padding: 0 0 0 0;\n",
              "      width: 32px;\n",
              "    }\n",
              "\n",
              "    .colab-df-convert:hover {\n",
              "      background-color: #E2EBFA;\n",
              "      box-shadow: 0px 1px 2px rgba(60, 64, 67, 0.3), 0px 1px 3px 1px rgba(60, 64, 67, 0.15);\n",
              "      fill: #174EA6;\n",
              "    }\n",
              "\n",
              "    .colab-df-buttons div {\n",
              "      margin-bottom: 4px;\n",
              "    }\n",
              "\n",
              "    [theme=dark] .colab-df-convert {\n",
              "      background-color: #3B4455;\n",
              "      fill: #D2E3FC;\n",
              "    }\n",
              "\n",
              "    [theme=dark] .colab-df-convert:hover {\n",
              "      background-color: #434B5C;\n",
              "      box-shadow: 0px 1px 3px 1px rgba(0, 0, 0, 0.15);\n",
              "      filter: drop-shadow(0px 1px 2px rgba(0, 0, 0, 0.3));\n",
              "      fill: #FFFFFF;\n",
              "    }\n",
              "  </style>\n",
              "\n",
              "    <script>\n",
              "      const buttonEl =\n",
              "        document.querySelector('#df-b0fa1b9a-78fa-4d80-bdf9-dcc6985cda22 button.colab-df-convert');\n",
              "      buttonEl.style.display =\n",
              "        google.colab.kernel.accessAllowed ? 'block' : 'none';\n",
              "\n",
              "      async function convertToInteractive(key) {\n",
              "        const element = document.querySelector('#df-b0fa1b9a-78fa-4d80-bdf9-dcc6985cda22');\n",
              "        const dataTable =\n",
              "          await google.colab.kernel.invokeFunction('convertToInteractive',\n",
              "                                                    [key], {});\n",
              "        if (!dataTable) return;\n",
              "\n",
              "        const docLinkHtml = 'Like what you see? Visit the ' +\n",
              "          '<a target=\"_blank\" href=https://colab.research.google.com/notebooks/data_table.ipynb>data table notebook</a>'\n",
              "          + ' to learn more about interactive tables.';\n",
              "        element.innerHTML = '';\n",
              "        dataTable['output_type'] = 'display_data';\n",
              "        await google.colab.output.renderOutput(dataTable, element);\n",
              "        const docLink = document.createElement('div');\n",
              "        docLink.innerHTML = docLinkHtml;\n",
              "        element.appendChild(docLink);\n",
              "      }\n",
              "    </script>\n",
              "  </div>\n",
              "  \n",
              "    </div>\n",
              "  </div>\n",
              "  "
            ],
            "application/vnd.google.colaboratory.intrinsic+json": {
              "type": "dataframe",
              "summary": "{\n  \"name\": \"display(dados\",\n  \"rows\": 8,\n  \"fields\": [\n    {\n      \"column\": \"User ID\",\n      \"properties\": {\n        \"dtype\": \"number\",\n        \"std\": 329695.6336007939,\n        \"min\": 50000.0,\n        \"max\": 999995.0,\n        \"num_unique_values\": 8,\n        \"samples\": [\n          548890.68054,\n          548147.0,\n          50000.0\n        ],\n        \"semantic_type\": \"\",\n        \"description\": \"\"\n      }\n    },\n    {\n      \"column\": \"Retweet Count\",\n      \"properties\": {\n        \"dtype\": \"number\",\n        \"std\": 17661.06986771171,\n        \"min\": 0.0,\n        \"max\": 50000.0,\n        \"num_unique_values\": 8,\n        \"samples\": [\n          50.0056,\n          50.0,\n          50000.0\n        ],\n        \"semantic_type\": \"\",\n        \"description\": \"\"\n      }\n    },\n    {\n      \"column\": \"Mention Count\",\n      \"properties\": {\n        \"dtype\": \"number\",\n        \"std\": 17676.799743162384,\n        \"min\": 0.0,\n        \"max\": 50000.0,\n        \"num_unique_values\": 8,\n        \"samples\": [\n          2.51376,\n          3.0,\n          50000.0\n        ],\n        \"semantic_type\": \"\",\n        \"description\": \"\"\n      }\n    },\n    {\n      \"column\": \"Follower Count\",\n      \"properties\": {\n        \"dtype\": \"number\",\n        \"std\": 16312.785812427956,\n        \"min\": 0.0,\n        \"max\": 50000.0,\n        \"num_unique_values\": 8,\n        \"samples\": [\n          4988.60238,\n          4991.5,\n          50000.0\n        ],\n        \"semantic_type\": \"\",\n        \"description\": \"\"\n      }\n    },\n    {\n      \"column\": \"Bot Label\",\n      \"properties\": {\n        \"dtype\": \"number\",\n        \"std\": 17677.467485632336,\n        \"min\": 0.0,\n        \"max\": 50000.0,\n        \"num_unique_values\": 5,\n        \"samples\": [\n          0.50036,\n          1.0,\n          0.5000048704736886\n        ],\n        \"semantic_type\": \"\",\n        \"description\": \"\"\n      }\n    }\n  ]\n}"
            }
          },
          "metadata": {}
        }
      ],
      "source": [
        "# Exibindo estatísticas descritivas dos dados numéricos\n",
        "print(\"\\nEstatísticas descritivas:\")\n",
        "display(dados.describe())"
      ]
    },
    {
      "cell_type": "markdown",
      "metadata": {
        "id": "7zwluBYUZ8Qt"
      },
      "source": [
        "## (EXTRA) Tratando dados nulos"
      ]
    },
    {
      "cell_type": "code",
      "execution_count": 57,
      "metadata": {
        "colab": {
          "base_uri": "https://localhost:8080/"
        },
        "id": "EaYRJxd_O-Ga",
        "outputId": "c53305c7-02a5-47dc-e98f-ce7b57d118c2"
      },
      "outputs": [
        {
          "output_type": "stream",
          "name": "stdout",
          "text": [
            "Percentual de valores nulos na coluna Hashtags: 16.68%\n"
          ]
        }
      ],
      "source": [
        "# Verificando a porcentagem de valores nulos na coluna 'Hashtags'\n",
        "percentual_nulos = dados['Hashtags'].isnull().mean() * 100\n",
        "print(f'Percentual de valores nulos na coluna Hashtags: {percentual_nulos:.2f}%')\n"
      ]
    },
    {
      "cell_type": "code",
      "execution_count": 58,
      "metadata": {
        "colab": {
          "base_uri": "https://localhost:8080/"
        },
        "id": "ZERwjW2sbmyY",
        "outputId": "e730df5f-56e0-428a-8e02-79bb9abd3e47"
      },
      "outputs": [
        {
          "output_type": "stream",
          "name": "stdout",
          "text": [
            "0                                        NaN\n",
            "1                               [both, live]\n",
            "2                             [phone, ahead]\n",
            "3                    [ever, quickly, new, I]\n",
            "4                         [foreign, mention]\n",
            "5    [anyone, respond, perhaps, market, run]\n",
            "6                                [president]\n",
            "7                   [option, husband, admit]\n",
            "8                                        NaN\n",
            "9                         [available, thing]\n",
            "Name: Hashtags_extracted, dtype: object\n"
          ]
        }
      ],
      "source": [
        "# Dividir as frases em palavras, considerando cada palavra como uma \"hashtag\"\n",
        "dados['Hashtags_extracted'] = dados['Hashtags'].dropna().apply(lambda x: x.split())\n",
        "\n",
        "# Exibir as primeiras 10 células de hashtags extraídas\n",
        "print(dados['Hashtags_extracted'].head(10))\n"
      ]
    },
    {
      "cell_type": "code",
      "execution_count": 59,
      "metadata": {
        "colab": {
          "base_uri": "https://localhost:8080/"
        },
        "id": "Uu5Tu8njbofK",
        "outputId": "ffa88470-cb14-41d2-b14c-43114d5c8ef4"
      },
      "outputs": [
        {
          "output_type": "stream",
          "name": "stdout",
          "text": [
            "['both' 'live' 'phone' 'ahead' 'ever' 'quickly' 'new' 'I' 'foreign'\n",
            " 'mention' 'anyone' 'respond' 'perhaps' 'market' 'run' 'president'\n",
            " 'option' 'husband' 'admit' 'available' 'thing' 'treat' 'care' 'eat'\n",
            " 'author' 'upon' 'all' 'direction' 'fly' 'course' 'difficult' 'fine'\n",
            " 'today' 'question' 'about' 'tough' 'interesting' 'every' 'cost' 'form'\n",
            " 'foot' 'year' 'control' 'health' 'do' 'fact' 'particularly' 'their'\n",
            " 'plant' 'account' 'wonder' 'purpose' 'position' 'able' 'have' 'that'\n",
            " 'especially' 'effort' 'situation' 'others' 'different' 'sort' 'small'\n",
            " 'knowledge' 'mission' 'owner' 'know' 'budget' 'reason' 'significant' 'at'\n",
            " 'take' 'sense' 'sell' 'officer' 'rate' 'board' 'front' 'before' 'enter'\n",
            " 'cover' 'gun' 'series' 'instead' 'behind' 'response' 'learn' 'design'\n",
            " 'energy' 'begin' 'former' 'impact' 'above' 'most' 'model' 'mind'\n",
            " 'sometimes' 'nature' 'green' 'story' 'teacher' 'late' 'land' 'discover'\n",
            " 'find' 'determine' 'sure' 'parent' 'old' 'medical' 'treatment' 'as'\n",
            " 'center' 'on' 'machine' 'just' 'drug' 'eye' 'entire' 'high' 'hundred'\n",
            " 'truth' 'idea' 'size' 'open' 'unit' 'accept' 'however' 'arm' 'here'\n",
            " 'apply' 'education' 'by' 'kitchen' 'beat' 'wind' 'must' 'benefit' 'even'\n",
            " 'administration' 'forget' 'system' 'organization' 'beyond' 'yard'\n",
            " 'increase' 'everything' 'give' 'himself' 'task' 'buy' 'research' 'seek'\n",
            " 'leave' 'room' 'win' 'myself' 'head' 'if' 'environment' 'meet' 'film'\n",
            " 'clearly' 'water' 'up' 'move' 'once' 'could' 'item' 'policy' 'inside'\n",
            " 'another' 'prepare' 'cold' 'page' 'successful' 'real' 'cause' 'read'\n",
            " 'fund' 'two' 'great' 'blue' 'force' 'federal' 'pay' 'prove' 'well'\n",
            " 'conference' 'order' 'site' 'community' 'usually' 'hit' 'dog' 'laugh'\n",
            " 'service' 'ability' 'way' 'around' 'leader' 'bag' 'letter' 'make'\n",
            " 'nothing' 'over' 'expect' 'baby' 'next' 'school' 'raise' 'middle'\n",
            " 'person' 'yourself' 'these' 'lot' 'price' 'official' 'glass' 'guy' 'rock'\n",
            " 'hour' 'director' 'watch' 'we' 'various' 'fill' 'avoid' 'table' 'stay'\n",
            " 'professor' 'listen' 'sing' 'maybe' 'expert' 'provide' 'how' 'whose'\n",
            " 'herself' 'thousand' 'individual' 'require' 'place' 'cultural' 'me'\n",
            " 'color' 'not' 'threat' 'sport' 'and' 'audience' 'where' 'hold' 'step'\n",
            " 'hear' 'now' 'job' 'become' 'thought' 'everyone' 'kind' 'capital'\n",
            " 'manage' 'so' 'section' 'day' 'attorney' 'practice' 'along' 'behavior'\n",
            " 'bring' 'doctor' 'image' 'quality' 'almost' 'ten' 'mouth' 'change'\n",
            " 'relationship' 'no' 'television' 'war' 'someone' 'player' 'girl' 'help'\n",
            " 'will' 'put' 'since' 'but' 'itself' 'set' 'throw' 'consumer' 'field'\n",
            " 'cup' 'Mr' 'serve' 'same' 'main' 'detail' 'among' 'seat' 'risk'\n",
            " 'candidate' 'protect' 'join' 'who' 'my' 'cut' 'local' 'share' 'other'\n",
            " 'interview' 'attention' 'test' 'station' 'return' 'loss' 'than' 'point'\n",
            " 'speech' 'matter' 'out' 'although' 'push' 'soldier' 'finish' 'issue'\n",
            " 'garden' 'try' 'yeah' 'she' 'stand' 'eight' 'newspaper' 'air' 'evidence'\n",
            " 'staff' 'subject' 'development' 'away' 'institution' 'create' 'surface'\n",
            " 'present' 'five' 'food' 'born' 'scene' 'method' 'summer' 'us' 'season'\n",
            " 'car' 'several' 'scientist' 'growth' 'star' 'artist' 'couple' 'physical'\n",
            " 'hot' 'while' 'some' 'election' 'meeting' 'teach' 'western'\n",
            " 'professional' 'into' 'yet' 'anything' 'affect' 'project' 'movie' 'wall'\n",
            " 'morning' 'work' 'enough' 'little' 'whom' 'never' 'million' 'decade'\n",
            " 'general' 'total' 'which' 'environmental' 'according' 'lose' 'or'\n",
            " 'camera' 'friend' 'early' 'travel' 'three' 'process' 'central' 'paper'\n",
            " 'charge' 'then' 'sister' 'side' 'address' 'nor' 'reflect' 'beautiful'\n",
            " 'big' 'remember' 'gas' 'stuff' 'theory' 'program' 'economic' 'include'\n",
            " 'realize' 'believe' 'management' 'white' 'reality' 'full' 'half' 'a'\n",
            " 'under' 'city' 'short' 'game' 'rest' 'attack' 'door' 'southern' 'much'\n",
            " 'north' 'turn' 'minute' 'military' 'what' 'night' 'like' 'manager'\n",
            " 'music' 'be' 'claim' 'call' 'first' 'against' 'easy' 'building'\n",
            " 'important' 'evening' 'appear' 'hair' 'degree' 'close' 'brother' 'break'\n",
            " 'certainly' 'information' 'student' 'measure' 'wear' 'government' 'onto'\n",
            " 'result' 'number' 'property' 'window' 'say' 'huge' 'public' 'see' 'east'\n",
            " 'human' 'hotel' 'when' 'ground' 'nearly' 'without' 'voice' 'notice'\n",
            " 'factor' 'message' 'source' 'science' 'check' 'police' 'crime' 'type'\n",
            " 'politics' 'book' 'part' 'past' 'else' 'forward' 'base' 'court' 'sea'\n",
            " 'suddenly' 'card' 'key' 'everybody' 'score' 'skin' 'choose' 'second'\n",
            " 'decide' 'security' 'area' 'ask' 'fast' 'house' 'dark' 'necessary'\n",
            " 'positive' 'him' 'special' 'he' 'language' 'from' 'despite' 'financial'\n",
            " 'word' 'dream' 'material' 'national' 'operation' 'similar' 'serious'\n",
            " 'structure' 'hard' 'agency' 'vote' 'tree' 'figure' 'focus' 'bit' 'also'\n",
            " 'consider' 'leg' 'partner' 'weight' 'participant' 'nation' 'money' 'boy'\n",
            " 'imagine' 'TV' 'talk' 'build' 'drive' 'speak' 'heart' 'PM' 'debate'\n",
            " 'town' 'bed' 'per' 'bill' 'answer' 'article' 'large' 'people' 'level'\n",
            " 'resource' 'free' 'company' 'allow' 'office' 'remain' 'until'\n",
            " 'international' 'only' 'establish' 'because' 'contain' 'six' 'possible'\n",
            " 'go' 'certain' 'in' 'week' 'street' 'our' 'carry' 'chair' 'rule' 'stage'\n",
            " 'good' 'note' 'church' 'line' 'worry' 'region' 'draw' 'standard' 'catch'\n",
            " 'south' 'write' 'thank' 'American' 'opportunity' 'whether' 'floor' 'down'\n",
            " 'concern' 'including' 'pattern' 'always' 'ago' 'left' 'argue' 'campaign'\n",
            " 'interest' 'senior' 'feeling' 'to' 'shoulder' 'investment' 'majority'\n",
            " 'fear' 'enjoy' 'think' 'happy' 'wide' 'pass' 'future' 'maintain' 'start'\n",
            " 'alone' 'let' 'song' 'class' 'better' 'range' 'personal' 'citizen' 'drop'\n",
            " 'list' 'many' 'home' 'box' 'represent' 'strong' 'across' 'industry'\n",
            " 'example' 'something' 'far' 'name' 'role' 'would' 'least' 'painting'\n",
            " 'style' 'edge' 'media' 'analysis' 'sign' 'traditional' 'religious' 'hope'\n",
            " 'political' 'pretty' 'need' 'tend' 'lay' 'send' 'authority' 'safe'\n",
            " 'space' 'ready' 'rise' 'approach' 'rich' 'end' 'save' 'Congress' 'view'\n",
            " 'rather' 'agent' 'production' 'recently' 'might' 'trip' 'fire' 'act'\n",
            " 'college' 'though' 'popular' 'condition' 'network' 'later' 'history'\n",
            " 'indeed' 'again' 'century' 'report' 'between' 'party' 'population'\n",
            " 'Republican' 'improve' 'son' 'whole' 'heavy' 'difference' 'discussion'\n",
            " 'executive' 'too' 'reach' 'own' 'effect' 'themselves' 'natural' 'recent'\n",
            " 'country' 'term' 'wait' 'should' 'technology' 'generation' 'none' 'tell'\n",
            " 'explain' 'power' 'somebody' 'father' 'character' 'true' 'radio' 'store'\n",
            " 'it' 'news' 'within' 'face' 'study' 'young' 'probably' 'occur' 'world'\n",
            " 'training' 'adult' 'collection' 'after' 'movement' 'exactly' 'pick'\n",
            " 'still' 'cell' 'moment' 'the' 'coach' 'his' 'with' 'daughter' 'describe'\n",
            " 'keep' 'career' 'finally' 'may' 'clear' 'decision' 'performance' 'wife'\n",
            " 'quite' 'choice' 'of' 'show' 'dinner' 'hospital' 'culture' 'case' 'piece'\n",
            " 'mother' 'already' 'add' 'success' 'bank' 'stock' 'continue' 'more'\n",
            " 'event' 'agreement' 'really' 'low' 'trouble' 'identify' 'four' 'current'\n",
            " 'amount' 'each' 'they' 'light' 'society' 'member' 'art' 'its' 'this'\n",
            " 'economy' 'family' 'blood' 'lead' 'computer' 'major' 'get' 'want' 'walk'\n",
            " 'woman' 'toward' 'those' 'miss' 'your' 'pull' 'you' 'exist' 'seem'\n",
            " 'produce' 'product' 'third' 'final' 'recognize' 'business' 'feel' 'can'\n",
            " 'understand' 'best' 'receive' 'discuss' 'lawyer' 'race' 'mean' 'ball'\n",
            " 'specific' 'either' 'follow' 'sit' 'top' 'particular' 'defense' 'shake'\n",
            " 'activity' 'common' 'guess' 'fish' 'experience' 'last' 'throughout'\n",
            " 'seven' 'right' 'black' 'whatever' 'writer' 'long' 'action' 'through'\n",
            " 'team' 'employee' 'smile' 'deal' 'simple' 'hand' 'likely' 'grow' 'reveal'\n",
            " 'road' 'kid' 'yes' 'marriage' 'nice' 'skill' 'compare' 'very' 'offer'\n",
            " 'arrive' 'use' 'spend' 'life' 'for' 'single' 'law' 'statement' 'wish'\n",
            " 'relate' 'responsibility' 'together' 'wrong' 'oil' 'suffer' 'prevent'\n",
            " 'modern' 'one' 'red' 'there' 'billion' 'play' 'data' 'poor' 'fight'\n",
            " 'them' 'state' 'child' 'record' 'simply' 'plan' 'off' 'peace' 'often'\n",
            " 'agree' 'goal' 'group' 'any' 'back' 'few' 'tax' 'why' 'such' 'west'\n",
            " 'look' 'Mrs' 'trial' 'perform' 'indicate' 'soon' 'support' 'memory'\n",
            " 'sound' 'firm' 'chance' 'body' 'develop' 'trade' 'animal' 'assume' 'her'\n",
            " 'thus' 'challenge' 'commercial' 'worker' 'visit' 'civil' 'bar' 'Democrat'\n",
            " 'strategy' 'involve' 'during' 'deep' 'month' 'picture' 'bad' 'social'\n",
            " 'democratic' 'outside' 'reduce' 'stop' 'pressure' 'less' 'suggest' 'man'\n",
            " 'spring' 'tonight' 'age' 'magazine' 'value' 'customer' 'time' 'happen'\n",
            " 'fall' 'ok' 'near' 'actually']\n"
          ]
        }
      ],
      "source": [
        "# Explodir a lista de palavras (tratadas como hashtags)\n",
        "hashtags_planas = [hashtag for sublist in dados['Hashtags_extracted'].dropna() for hashtag in sublist]\n",
        "\n",
        "# Obter valores únicos\n",
        "valores_unicos_hashtags = pd.Series(hashtags_planas).unique()\n",
        "\n",
        "print(valores_unicos_hashtags)\n"
      ]
    },
    {
      "cell_type": "code",
      "execution_count": 60,
      "metadata": {
        "id": "vHYolXZRaFPy"
      },
      "outputs": [],
      "source": [
        "# Preencher valores nulos com uma lista vazia\n",
        "dados['Hashtags'] = dados['Hashtags'].fillna(\"Sem Hashtags\")"
      ]
    },
    {
      "cell_type": "code",
      "execution_count": 61,
      "metadata": {
        "colab": {
          "base_uri": "https://localhost:8080/",
          "height": 0
        },
        "id": "6lFJ8hxqXZvr",
        "outputId": "7b720e1d-5b86-4095-ca30-9ea9ce375e1a"
      },
      "outputs": [
        {
          "output_type": "display_data",
          "data": {
            "text/html": [
              "<html>\n",
              "<head><meta charset=\"utf-8\" /></head>\n",
              "<body>\n",
              "    <div>            <script src=\"https://cdnjs.cloudflare.com/ajax/libs/mathjax/2.7.5/MathJax.js?config=TeX-AMS-MML_SVG\"></script><script type=\"text/javascript\">if (window.MathJax && window.MathJax.Hub && window.MathJax.Hub.Config) {window.MathJax.Hub.Config({SVG: {font: \"STIX-Web\"}});}</script>                <script type=\"text/javascript\">window.PlotlyConfig = {MathJaxConfig: 'local'};</script>\n",
              "        <script charset=\"utf-8\" src=\"https://cdn.plot.ly/plotly-2.35.2.min.js\"></script>                <div id=\"588fb334-af8b-40b1-9db8-1a6a56c9e3f2\" class=\"plotly-graph-div\" style=\"height:525px; width:100%;\"></div>            <script type=\"text/javascript\">                                    window.PLOTLYENV=window.PLOTLYENV || {};                                    if (document.getElementById(\"588fb334-af8b-40b1-9db8-1a6a56c9e3f2\")) {                    Plotly.newPlot(                        \"588fb334-af8b-40b1-9db8-1a6a56c9e3f2\",                        [{\"coloraxis\":\"coloraxis\",\"name\":\"0\",\"texttemplate\":\"%{z}\",\"x\":[\"User ID\",\"Retweet Count\",\"Mention Count\",\"Follower Count\",\"Bot Label\"],\"y\":[\"User ID\",\"Retweet Count\",\"Mention Count\",\"Follower Count\",\"Bot Label\"],\"z\":[[1.0,0.0077759043456935,0.00771154104945655,0.0055796558035869845,0.006058891835885268],[0.0077759043456935,1.0,-2.0399517001045425e-05,-0.007624258076619181,0.0012499962914710372],[0.00771154104945655,-2.0399517001045425e-05,1.0,0.0032647705225972872,-0.006912256255610384],[0.0055796558035869845,-0.007624258076619181,0.0032647705225972872,1.0,0.001161736464543052],[0.006058891835885268,0.0012499962914710372,-0.006912256255610384,0.001161736464543052,1.0]],\"type\":\"heatmap\",\"xaxis\":\"x\",\"yaxis\":\"y\",\"hovertemplate\":\"x: %{x}\\u003cbr\\u003ey: %{y}\\u003cbr\\u003ecolor: %{z}\\u003cextra\\u003e\\u003c\\u002fextra\\u003e\"}],                        {\"template\":{\"data\":{\"histogram2dcontour\":[{\"type\":\"histogram2dcontour\",\"colorbar\":{\"outlinewidth\":0,\"ticks\":\"\"},\"colorscale\":[[0.0,\"#0d0887\"],[0.1111111111111111,\"#46039f\"],[0.2222222222222222,\"#7201a8\"],[0.3333333333333333,\"#9c179e\"],[0.4444444444444444,\"#bd3786\"],[0.5555555555555556,\"#d8576b\"],[0.6666666666666666,\"#ed7953\"],[0.7777777777777778,\"#fb9f3a\"],[0.8888888888888888,\"#fdca26\"],[1.0,\"#f0f921\"]]}],\"choropleth\":[{\"type\":\"choropleth\",\"colorbar\":{\"outlinewidth\":0,\"ticks\":\"\"}}],\"histogram2d\":[{\"type\":\"histogram2d\",\"colorbar\":{\"outlinewidth\":0,\"ticks\":\"\"},\"colorscale\":[[0.0,\"#0d0887\"],[0.1111111111111111,\"#46039f\"],[0.2222222222222222,\"#7201a8\"],[0.3333333333333333,\"#9c179e\"],[0.4444444444444444,\"#bd3786\"],[0.5555555555555556,\"#d8576b\"],[0.6666666666666666,\"#ed7953\"],[0.7777777777777778,\"#fb9f3a\"],[0.8888888888888888,\"#fdca26\"],[1.0,\"#f0f921\"]]}],\"heatmap\":[{\"type\":\"heatmap\",\"colorbar\":{\"outlinewidth\":0,\"ticks\":\"\"},\"colorscale\":[[0.0,\"#0d0887\"],[0.1111111111111111,\"#46039f\"],[0.2222222222222222,\"#7201a8\"],[0.3333333333333333,\"#9c179e\"],[0.4444444444444444,\"#bd3786\"],[0.5555555555555556,\"#d8576b\"],[0.6666666666666666,\"#ed7953\"],[0.7777777777777778,\"#fb9f3a\"],[0.8888888888888888,\"#fdca26\"],[1.0,\"#f0f921\"]]}],\"heatmapgl\":[{\"type\":\"heatmapgl\",\"colorbar\":{\"outlinewidth\":0,\"ticks\":\"\"},\"colorscale\":[[0.0,\"#0d0887\"],[0.1111111111111111,\"#46039f\"],[0.2222222222222222,\"#7201a8\"],[0.3333333333333333,\"#9c179e\"],[0.4444444444444444,\"#bd3786\"],[0.5555555555555556,\"#d8576b\"],[0.6666666666666666,\"#ed7953\"],[0.7777777777777778,\"#fb9f3a\"],[0.8888888888888888,\"#fdca26\"],[1.0,\"#f0f921\"]]}],\"contourcarpet\":[{\"type\":\"contourcarpet\",\"colorbar\":{\"outlinewidth\":0,\"ticks\":\"\"}}],\"contour\":[{\"type\":\"contour\",\"colorbar\":{\"outlinewidth\":0,\"ticks\":\"\"},\"colorscale\":[[0.0,\"#0d0887\"],[0.1111111111111111,\"#46039f\"],[0.2222222222222222,\"#7201a8\"],[0.3333333333333333,\"#9c179e\"],[0.4444444444444444,\"#bd3786\"],[0.5555555555555556,\"#d8576b\"],[0.6666666666666666,\"#ed7953\"],[0.7777777777777778,\"#fb9f3a\"],[0.8888888888888888,\"#fdca26\"],[1.0,\"#f0f921\"]]}],\"surface\":[{\"type\":\"surface\",\"colorbar\":{\"outlinewidth\":0,\"ticks\":\"\"},\"colorscale\":[[0.0,\"#0d0887\"],[0.1111111111111111,\"#46039f\"],[0.2222222222222222,\"#7201a8\"],[0.3333333333333333,\"#9c179e\"],[0.4444444444444444,\"#bd3786\"],[0.5555555555555556,\"#d8576b\"],[0.6666666666666666,\"#ed7953\"],[0.7777777777777778,\"#fb9f3a\"],[0.8888888888888888,\"#fdca26\"],[1.0,\"#f0f921\"]]}],\"mesh3d\":[{\"type\":\"mesh3d\",\"colorbar\":{\"outlinewidth\":0,\"ticks\":\"\"}}],\"scatter\":[{\"fillpattern\":{\"fillmode\":\"overlay\",\"size\":10,\"solidity\":0.2},\"type\":\"scatter\"}],\"parcoords\":[{\"type\":\"parcoords\",\"line\":{\"colorbar\":{\"outlinewidth\":0,\"ticks\":\"\"}}}],\"scatterpolargl\":[{\"type\":\"scatterpolargl\",\"marker\":{\"colorbar\":{\"outlinewidth\":0,\"ticks\":\"\"}}}],\"bar\":[{\"error_x\":{\"color\":\"#2a3f5f\"},\"error_y\":{\"color\":\"#2a3f5f\"},\"marker\":{\"line\":{\"color\":\"#E5ECF6\",\"width\":0.5},\"pattern\":{\"fillmode\":\"overlay\",\"size\":10,\"solidity\":0.2}},\"type\":\"bar\"}],\"scattergeo\":[{\"type\":\"scattergeo\",\"marker\":{\"colorbar\":{\"outlinewidth\":0,\"ticks\":\"\"}}}],\"scatterpolar\":[{\"type\":\"scatterpolar\",\"marker\":{\"colorbar\":{\"outlinewidth\":0,\"ticks\":\"\"}}}],\"histogram\":[{\"marker\":{\"pattern\":{\"fillmode\":\"overlay\",\"size\":10,\"solidity\":0.2}},\"type\":\"histogram\"}],\"scattergl\":[{\"type\":\"scattergl\",\"marker\":{\"colorbar\":{\"outlinewidth\":0,\"ticks\":\"\"}}}],\"scatter3d\":[{\"type\":\"scatter3d\",\"line\":{\"colorbar\":{\"outlinewidth\":0,\"ticks\":\"\"}},\"marker\":{\"colorbar\":{\"outlinewidth\":0,\"ticks\":\"\"}}}],\"scattermapbox\":[{\"type\":\"scattermapbox\",\"marker\":{\"colorbar\":{\"outlinewidth\":0,\"ticks\":\"\"}}}],\"scatterternary\":[{\"type\":\"scatterternary\",\"marker\":{\"colorbar\":{\"outlinewidth\":0,\"ticks\":\"\"}}}],\"scattercarpet\":[{\"type\":\"scattercarpet\",\"marker\":{\"colorbar\":{\"outlinewidth\":0,\"ticks\":\"\"}}}],\"carpet\":[{\"aaxis\":{\"endlinecolor\":\"#2a3f5f\",\"gridcolor\":\"white\",\"linecolor\":\"white\",\"minorgridcolor\":\"white\",\"startlinecolor\":\"#2a3f5f\"},\"baxis\":{\"endlinecolor\":\"#2a3f5f\",\"gridcolor\":\"white\",\"linecolor\":\"white\",\"minorgridcolor\":\"white\",\"startlinecolor\":\"#2a3f5f\"},\"type\":\"carpet\"}],\"table\":[{\"cells\":{\"fill\":{\"color\":\"#EBF0F8\"},\"line\":{\"color\":\"white\"}},\"header\":{\"fill\":{\"color\":\"#C8D4E3\"},\"line\":{\"color\":\"white\"}},\"type\":\"table\"}],\"barpolar\":[{\"marker\":{\"line\":{\"color\":\"#E5ECF6\",\"width\":0.5},\"pattern\":{\"fillmode\":\"overlay\",\"size\":10,\"solidity\":0.2}},\"type\":\"barpolar\"}],\"pie\":[{\"automargin\":true,\"type\":\"pie\"}]},\"layout\":{\"autotypenumbers\":\"strict\",\"colorway\":[\"#636efa\",\"#EF553B\",\"#00cc96\",\"#ab63fa\",\"#FFA15A\",\"#19d3f3\",\"#FF6692\",\"#B6E880\",\"#FF97FF\",\"#FECB52\"],\"font\":{\"color\":\"#2a3f5f\"},\"hovermode\":\"closest\",\"hoverlabel\":{\"align\":\"left\"},\"paper_bgcolor\":\"white\",\"plot_bgcolor\":\"#E5ECF6\",\"polar\":{\"bgcolor\":\"#E5ECF6\",\"angularaxis\":{\"gridcolor\":\"white\",\"linecolor\":\"white\",\"ticks\":\"\"},\"radialaxis\":{\"gridcolor\":\"white\",\"linecolor\":\"white\",\"ticks\":\"\"}},\"ternary\":{\"bgcolor\":\"#E5ECF6\",\"aaxis\":{\"gridcolor\":\"white\",\"linecolor\":\"white\",\"ticks\":\"\"},\"baxis\":{\"gridcolor\":\"white\",\"linecolor\":\"white\",\"ticks\":\"\"},\"caxis\":{\"gridcolor\":\"white\",\"linecolor\":\"white\",\"ticks\":\"\"}},\"coloraxis\":{\"colorbar\":{\"outlinewidth\":0,\"ticks\":\"\"}},\"colorscale\":{\"sequential\":[[0.0,\"#0d0887\"],[0.1111111111111111,\"#46039f\"],[0.2222222222222222,\"#7201a8\"],[0.3333333333333333,\"#9c179e\"],[0.4444444444444444,\"#bd3786\"],[0.5555555555555556,\"#d8576b\"],[0.6666666666666666,\"#ed7953\"],[0.7777777777777778,\"#fb9f3a\"],[0.8888888888888888,\"#fdca26\"],[1.0,\"#f0f921\"]],\"sequentialminus\":[[0.0,\"#0d0887\"],[0.1111111111111111,\"#46039f\"],[0.2222222222222222,\"#7201a8\"],[0.3333333333333333,\"#9c179e\"],[0.4444444444444444,\"#bd3786\"],[0.5555555555555556,\"#d8576b\"],[0.6666666666666666,\"#ed7953\"],[0.7777777777777778,\"#fb9f3a\"],[0.8888888888888888,\"#fdca26\"],[1.0,\"#f0f921\"]],\"diverging\":[[0,\"#8e0152\"],[0.1,\"#c51b7d\"],[0.2,\"#de77ae\"],[0.3,\"#f1b6da\"],[0.4,\"#fde0ef\"],[0.5,\"#f7f7f7\"],[0.6,\"#e6f5d0\"],[0.7,\"#b8e186\"],[0.8,\"#7fbc41\"],[0.9,\"#4d9221\"],[1,\"#276419\"]]},\"xaxis\":{\"gridcolor\":\"white\",\"linecolor\":\"white\",\"ticks\":\"\",\"title\":{\"standoff\":15},\"zerolinecolor\":\"white\",\"automargin\":true,\"zerolinewidth\":2},\"yaxis\":{\"gridcolor\":\"white\",\"linecolor\":\"white\",\"ticks\":\"\",\"title\":{\"standoff\":15},\"zerolinecolor\":\"white\",\"automargin\":true,\"zerolinewidth\":2},\"scene\":{\"xaxis\":{\"backgroundcolor\":\"#E5ECF6\",\"gridcolor\":\"white\",\"linecolor\":\"white\",\"showbackground\":true,\"ticks\":\"\",\"zerolinecolor\":\"white\",\"gridwidth\":2},\"yaxis\":{\"backgroundcolor\":\"#E5ECF6\",\"gridcolor\":\"white\",\"linecolor\":\"white\",\"showbackground\":true,\"ticks\":\"\",\"zerolinecolor\":\"white\",\"gridwidth\":2},\"zaxis\":{\"backgroundcolor\":\"#E5ECF6\",\"gridcolor\":\"white\",\"linecolor\":\"white\",\"showbackground\":true,\"ticks\":\"\",\"zerolinecolor\":\"white\",\"gridwidth\":2}},\"shapedefaults\":{\"line\":{\"color\":\"#2a3f5f\"}},\"annotationdefaults\":{\"arrowcolor\":\"#2a3f5f\",\"arrowhead\":0,\"arrowwidth\":1},\"geo\":{\"bgcolor\":\"white\",\"landcolor\":\"#E5ECF6\",\"subunitcolor\":\"white\",\"showland\":true,\"showlakes\":true,\"lakecolor\":\"white\"},\"title\":{\"x\":0.05},\"mapbox\":{\"style\":\"light\"}}},\"xaxis\":{\"anchor\":\"y\",\"domain\":[0.0,1.0],\"scaleanchor\":\"y\",\"constrain\":\"domain\"},\"yaxis\":{\"anchor\":\"x\",\"domain\":[0.0,1.0],\"autorange\":\"reversed\",\"constrain\":\"domain\"},\"coloraxis\":{\"colorscale\":[[0.0,\"rgb(5,48,97)\"],[0.1,\"rgb(33,102,172)\"],[0.2,\"rgb(67,147,195)\"],[0.3,\"rgb(146,197,222)\"],[0.4,\"rgb(209,229,240)\"],[0.5,\"rgb(247,247,247)\"],[0.6,\"rgb(253,219,199)\"],[0.7,\"rgb(244,165,130)\"],[0.8,\"rgb(214,96,77)\"],[0.9,\"rgb(178,24,43)\"],[1.0,\"rgb(103,0,31)\"]]},\"title\":{\"text\":\"Matriz de Correla\\u00e7\\u00e3o\"}},                        {\"responsive\": true}                    ).then(function(){\n",
              "                            \n",
              "var gd = document.getElementById('588fb334-af8b-40b1-9db8-1a6a56c9e3f2');\n",
              "var x = new MutationObserver(function (mutations, observer) {{\n",
              "        var display = window.getComputedStyle(gd).display;\n",
              "        if (!display || display === 'none') {{\n",
              "            console.log([gd, 'removed!']);\n",
              "            Plotly.purge(gd);\n",
              "            observer.disconnect();\n",
              "        }}\n",
              "}});\n",
              "\n",
              "// Listen for the removal of the full notebook cells\n",
              "var notebookContainer = gd.closest('#notebook-container');\n",
              "if (notebookContainer) {{\n",
              "    x.observe(notebookContainer, {childList: true});\n",
              "}}\n",
              "\n",
              "// Listen for the clearing of the current output cell\n",
              "var outputEl = gd.closest('.output');\n",
              "if (outputEl) {{\n",
              "    x.observe(outputEl, {childList: true});\n",
              "}}\n",
              "\n",
              "                        })                };                            </script>        </div>\n",
              "</body>\n",
              "</html>"
            ]
          },
          "metadata": {}
        }
      ],
      "source": [
        "# Selecionar apenas colunas numéricas\n",
        "dados_numericos = dados.select_dtypes(include=['float64', 'int64'])\n",
        "# Calcular a matriz de correlação\n",
        "matriz_correlacao = dados_numericos.corr()\n",
        "# Criar um heatmap com Plotly Express\n",
        "fig = px.imshow(matriz_correlacao,\n",
        "                text_auto=True,  # Mostrar os valores no gráfico\n",
        "                color_continuous_scale='RdBu_r',  # Escolher a escala de cores\n",
        "                title=\"Matriz de Correlação\")\n",
        "\n",
        "# Exibir o gráfico\n",
        "fig.show()"
      ]
    },
    {
      "cell_type": "markdown",
      "metadata": {
        "id": "n-_IHtAQQzSC"
      },
      "source": [
        "## Preparação dos Dados\n",
        "Agora vamos preparar a coluna que contém os rótulos de Bots e Não Bots para o treinamento."
      ]
    },
    {
      "cell_type": "code",
      "execution_count": 62,
      "metadata": {
        "id": "Sl3YJpuPd8tX"
      },
      "outputs": [],
      "source": [
        "import pandas as pd\n",
        "from sklearn.model_selection import train_test_split\n",
        "\n",
        "# Supondo que o dataset tem uma coluna 'Tweet' e uma coluna 'Bot Label'\n",
        "X = dados['Tweet']\n",
        "y = dados['Bot Label']  # Onde 1 é bot, 0 é não bot\n",
        "\n",
        "# Dividir os dados em treino e teste\n",
        "train_texts, test_texts, y_train, y_test = train_test_split(X, y, train_size=0.5, random_state=42)\n"
      ]
    },
    {
      "cell_type": "markdown",
      "metadata": {
        "id": "V17ND-ZcQoxt"
      },
      "source": [
        "## Tokenização dos dados usando o tokenizador BERT\n",
        "\n"
      ]
    },
    {
      "cell_type": "markdown",
      "metadata": {
        "id": "2XigbZCPQsLr"
      },
      "source": [
        "O BERT requer que os textos sejam tokenizados corretamente. Vamos usar o BertTokenizer para isso."
      ]
    },
    {
      "cell_type": "code",
      "execution_count": 63,
      "metadata": {
        "id": "uhunK_Zrevdq"
      },
      "outputs": [],
      "source": [
        "# Tokenização utilizando BERT\n",
        "tokenizer = BertTokenizer.from_pretrained('bert-base-uncased')\n",
        "\n",
        "# Tokenizando os textos de treino e teste\n",
        "train_encodings = tokenizer(list(train_texts), truncation=True, padding=True, max_length=512)\n",
        "test_encodings = tokenizer(list(test_texts), truncation=True, padding=True, max_length=512)\n"
      ]
    },
    {
      "cell_type": "markdown",
      "metadata": {
        "id": "42gcrn_kfDnT"
      },
      "source": [
        "## Treinando o modelo\n",
        "Agora, vamos carregar o modelo BERT para classificação de sequência."
      ]
    },
    {
      "cell_type": "code",
      "execution_count": 64,
      "metadata": {
        "colab": {
          "base_uri": "https://localhost:8080/"
        },
        "id": "SpFXxZ-JfCrL",
        "outputId": "2303a6d2-d3dc-489b-b770-ff1a627acf53"
      },
      "outputs": [
        {
          "output_type": "stream",
          "name": "stderr",
          "text": [
            "Some weights of BertForSequenceClassification were not initialized from the model checkpoint at bert-base-uncased and are newly initialized: ['classifier.bias', 'classifier.weight']\n",
            "You should probably TRAIN this model on a down-stream task to be able to use it for predictions and inference.\n",
            "/usr/local/lib/python3.10/dist-packages/transformers/optimization.py:591: FutureWarning:\n",
            "\n",
            "This implementation of AdamW is deprecated and will be removed in a future version. Use the PyTorch implementation torch.optim.AdamW instead, or set `no_deprecation_warning=True` to disable this warning\n",
            "\n"
          ]
        }
      ],
      "source": [
        "# Criar dataset customizado para o treinamento\n",
        "class BotDataset(torch.utils.data.Dataset):\n",
        "    def __init__(self, encodings, labels):\n",
        "        self.encodings = encodings\n",
        "        self.labels = labels\n",
        "\n",
        "    def __getitem__(self, idx):\n",
        "        item = {key: torch.tensor(val[idx]) for key, val in self.encodings.items()}\n",
        "        item['labels'] = torch.tensor(self.labels[idx])\n",
        "        return item\n",
        "\n",
        "    def __len__(self):\n",
        "        return len(self.labels)\n",
        "\n",
        "# Criar datasets de treino e teste\n",
        "train_dataset = BotDataset(train_encodings, y_train.tolist())\n",
        "test_dataset = BotDataset(test_encodings, y_test.tolist())\n",
        "\n",
        "# Carregar o modelo BERT para classificação\n",
        "model = BertForSequenceClassification.from_pretrained('bert-base-uncased', num_labels=2)\n",
        "\n",
        "# Definir otimizador e taxa de aprendizado\n",
        "optimizer = AdamW(model.parameters(), lr=5e-5)\n"
      ]
    },
    {
      "cell_type": "code",
      "execution_count": null,
      "metadata": {
        "id": "yVWaQFGOgK_K"
      },
      "outputs": [],
      "source": [
        "# Avaliação do modelo (após o treinamento)\n",
        "model.eval()\n",
        "eval_loss = 0\n",
        "eval_accuracy = 0\n",
        "nb_eval_steps = 0\n",
        "\n",
        "for batch in test_dataset:\n",
        "    # Forward pass\n",
        "    with torch.no_grad():\n",
        "        outputs = model(input_ids=batch['input_ids'].unsqueeze(0),\n",
        "                        attention_mask=batch['attention_mask'].unsqueeze(0),\n",
        "                        labels=batch['labels'].unsqueeze(0))\n",
        "\n",
        "    loss = outputs.loss\n",
        "    logits = outputs.logits\n",
        "\n",
        "    # Calcular a acurácia\n",
        "    predictions = torch.argmax(logits, dim=-1)\n",
        "    eval_accuracy += (predictions == batch['labels']).sum().item()\n",
        "    nb_eval_steps += 1\n",
        "\n",
        "# Exibir a acurácia final\n",
        "accuracy = eval_accuracy / len(test_dataset)\n",
        "print(f'Acurácia do modelo: {accuracy:.2f}')\n"
      ]
    },
    {
      "cell_type": "markdown",
      "metadata": {
        "id": "nMU89Br6RW66"
      },
      "source": [
        "## Visualização dos Resultados do Treinamento\n",
        "Vamos visualizar os resultados do treinamento (precisão e perda) utilizando gráficos interativos do Plotly."
      ]
    },
    {
      "cell_type": "code",
      "execution_count": null,
      "metadata": {
        "id": "_GBOejxbRZMn"
      },
      "outputs": [],
      "source": [
        "import plotly.express as px\n",
        "\n",
        "# Plotando a precisão do treinamento e da validação\n",
        "fig_accuracy = px.line(\n",
        "    history.history,\n",
        "    y=['sparse_categorical_accuracy', 'val_sparse_categorical_accuracy'],\n",
        "    labels={'value': 'Accuracy', 'index': 'Epoch'},\n",
        "    title='Training and Validation Accuracy'\n",
        ")\n",
        "fig_accuracy.show()\n",
        "\n",
        "# Plotando a perda do treinamento e da validação\n",
        "fig_loss = px.line(\n",
        "    history.history,\n",
        "    y=['loss', 'val_loss'],\n",
        "    labels={'value': 'Loss', 'index': 'Epoch'},\n",
        "    title='Training and Validation Loss'\n",
        ")\n",
        "fig_loss.show()\n"
      ]
    },
    {
      "cell_type": "markdown",
      "metadata": {
        "id": "dZ4g6sPWRa-V"
      },
      "source": [
        "## Avaliação do Modelo\n",
        "Após o treinamento, podemos avaliar o desempenho do modelo nos dados de teste ou nos mesmos dados usados no treinamento."
      ]
    },
    {
      "cell_type": "code",
      "execution_count": null,
      "metadata": {
        "id": "wTSuyVewRePE"
      },
      "outputs": [],
      "source": [
        "# Avaliando o modelo\n",
        "results = model.evaluate(tokenized_inputs['input_ids'], labels)\n",
        "print(f\"Loss: {results[0]}, Accuracy: {results[1]}\")"
      ]
    }
  ],
  "metadata": {
    "colab": {
      "toc_visible": true,
      "provenance": []
    },
    "kernelspec": {
      "display_name": "Python 3",
      "name": "python3"
    },
    "language_info": {
      "name": "python"
    }
  },
  "nbformat": 4,
  "nbformat_minor": 0
}